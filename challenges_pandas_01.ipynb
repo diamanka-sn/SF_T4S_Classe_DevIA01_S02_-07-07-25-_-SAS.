{
 "cells": [
  {
   "cell_type": "code",
   "execution_count": 1,
   "id": "9ceda3d3",
   "metadata": {},
   "outputs": [],
   "source": [
    "import pandas as pd\n",
    "import numpy as np"
   ]
  },
  {
   "cell_type": "markdown",
   "id": "da39b6d5",
   "metadata": {},
   "source": [
    "## Challenge 01"
   ]
  },
  {
   "cell_type": "code",
   "execution_count": 2,
   "id": "24240539",
   "metadata": {},
   "outputs": [],
   "source": [
    "\n",
    "data = [\n",
    "    [\"Amine\", 28, \"Casablanca\"],\n",
    "    [\"Lina\", 22, \"Rabat\"],\n",
    "    [\"Youssef\", 35, \"Fès\"],\n",
    "    [\"Salma\", 30, \"Casablanca\"],\n",
    "    [\"Nora\", np.nan, \"Tanger\"]\n",
    "]"
   ]
  },
  {
   "cell_type": "code",
   "execution_count": 3,
   "id": "f18f1c75",
   "metadata": {},
   "outputs": [],
   "source": [
    "df = pd.DataFrame(data, columns=[\"Nom\", \"Age\", \"Ville\"])"
   ]
  },
  {
   "cell_type": "code",
   "execution_count": 4,
   "id": "d8995b5d",
   "metadata": {},
   "outputs": [
    {
     "data": {
      "text/html": [
       "<div>\n",
       "<style scoped>\n",
       "    .dataframe tbody tr th:only-of-type {\n",
       "        vertical-align: middle;\n",
       "    }\n",
       "\n",
       "    .dataframe tbody tr th {\n",
       "        vertical-align: top;\n",
       "    }\n",
       "\n",
       "    .dataframe thead th {\n",
       "        text-align: right;\n",
       "    }\n",
       "</style>\n",
       "<table border=\"1\" class=\"dataframe\">\n",
       "  <thead>\n",
       "    <tr style=\"text-align: right;\">\n",
       "      <th></th>\n",
       "      <th>Nom</th>\n",
       "      <th>Age</th>\n",
       "      <th>Ville</th>\n",
       "    </tr>\n",
       "  </thead>\n",
       "  <tbody>\n",
       "    <tr>\n",
       "      <th>0</th>\n",
       "      <td>Amine</td>\n",
       "      <td>28.0</td>\n",
       "      <td>Casablanca</td>\n",
       "    </tr>\n",
       "    <tr>\n",
       "      <th>1</th>\n",
       "      <td>Lina</td>\n",
       "      <td>22.0</td>\n",
       "      <td>Rabat</td>\n",
       "    </tr>\n",
       "    <tr>\n",
       "      <th>2</th>\n",
       "      <td>Youssef</td>\n",
       "      <td>35.0</td>\n",
       "      <td>Fès</td>\n",
       "    </tr>\n",
       "    <tr>\n",
       "      <th>3</th>\n",
       "      <td>Salma</td>\n",
       "      <td>30.0</td>\n",
       "      <td>Casablanca</td>\n",
       "    </tr>\n",
       "    <tr>\n",
       "      <th>4</th>\n",
       "      <td>Nora</td>\n",
       "      <td>NaN</td>\n",
       "      <td>Tanger</td>\n",
       "    </tr>\n",
       "  </tbody>\n",
       "</table>\n",
       "</div>"
      ],
      "text/plain": [
       "       Nom   Age       Ville\n",
       "0    Amine  28.0  Casablanca\n",
       "1     Lina  22.0       Rabat\n",
       "2  Youssef  35.0         Fès\n",
       "3    Salma  30.0  Casablanca\n",
       "4     Nora   NaN      Tanger"
      ]
     },
     "execution_count": 4,
     "metadata": {},
     "output_type": "execute_result"
    }
   ],
   "source": [
    "df.head()  "
   ]
  },
  {
   "cell_type": "code",
   "execution_count": 5,
   "id": "43e12834",
   "metadata": {},
   "outputs": [
    {
     "name": "stdout",
     "output_type": "stream",
     "text": [
      "<class 'pandas.core.frame.DataFrame'>\n",
      "RangeIndex: 5 entries, 0 to 4\n",
      "Data columns (total 3 columns):\n",
      " #   Column  Non-Null Count  Dtype  \n",
      "---  ------  --------------  -----  \n",
      " 0   Nom     5 non-null      object \n",
      " 1   Age     4 non-null      float64\n",
      " 2   Ville   5 non-null      object \n",
      "dtypes: float64(1), object(2)\n",
      "memory usage: 252.0+ bytes\n"
     ]
    }
   ],
   "source": [
    "df.info()"
   ]
  },
  {
   "cell_type": "markdown",
   "id": "d6e232e8",
   "metadata": {},
   "source": [
    "## Challenge 02"
   ]
  },
  {
   "cell_type": "code",
   "execution_count": 6,
   "id": "99a91e2a",
   "metadata": {},
   "outputs": [
    {
     "data": {
      "text/plain": [
       "0    Casablanca\n",
       "1         Rabat\n",
       "2           Fès\n",
       "3    Casablanca\n",
       "4        Tanger\n",
       "Name: Ville, dtype: object"
      ]
     },
     "execution_count": 6,
     "metadata": {},
     "output_type": "execute_result"
    }
   ],
   "source": [
    "df[\"Ville\"]"
   ]
  },
  {
   "cell_type": "code",
   "execution_count": 7,
   "id": "69aea844",
   "metadata": {},
   "outputs": [
    {
     "data": {
      "text/html": [
       "<div>\n",
       "<style scoped>\n",
       "    .dataframe tbody tr th:only-of-type {\n",
       "        vertical-align: middle;\n",
       "    }\n",
       "\n",
       "    .dataframe tbody tr th {\n",
       "        vertical-align: top;\n",
       "    }\n",
       "\n",
       "    .dataframe thead th {\n",
       "        text-align: right;\n",
       "    }\n",
       "</style>\n",
       "<table border=\"1\" class=\"dataframe\">\n",
       "  <thead>\n",
       "    <tr style=\"text-align: right;\">\n",
       "      <th></th>\n",
       "      <th>Nom</th>\n",
       "      <th>Age</th>\n",
       "      <th>Ville</th>\n",
       "    </tr>\n",
       "  </thead>\n",
       "  <tbody>\n",
       "    <tr>\n",
       "      <th>0</th>\n",
       "      <td>Amine</td>\n",
       "      <td>28.0</td>\n",
       "      <td>Casablanca</td>\n",
       "    </tr>\n",
       "    <tr>\n",
       "      <th>2</th>\n",
       "      <td>Youssef</td>\n",
       "      <td>35.0</td>\n",
       "      <td>Fès</td>\n",
       "    </tr>\n",
       "    <tr>\n",
       "      <th>3</th>\n",
       "      <td>Salma</td>\n",
       "      <td>30.0</td>\n",
       "      <td>Casablanca</td>\n",
       "    </tr>\n",
       "  </tbody>\n",
       "</table>\n",
       "</div>"
      ],
      "text/plain": [
       "       Nom   Age       Ville\n",
       "0    Amine  28.0  Casablanca\n",
       "2  Youssef  35.0         Fès\n",
       "3    Salma  30.0  Casablanca"
      ]
     },
     "execution_count": 7,
     "metadata": {},
     "output_type": "execute_result"
    }
   ],
   "source": [
    "df[df[\"Age\"] > 25]"
   ]
  },
  {
   "cell_type": "code",
   "execution_count": 8,
   "id": "081df340",
   "metadata": {},
   "outputs": [
    {
     "data": {
      "text/html": [
       "<div>\n",
       "<style scoped>\n",
       "    .dataframe tbody tr th:only-of-type {\n",
       "        vertical-align: middle;\n",
       "    }\n",
       "\n",
       "    .dataframe tbody tr th {\n",
       "        vertical-align: top;\n",
       "    }\n",
       "\n",
       "    .dataframe thead th {\n",
       "        text-align: right;\n",
       "    }\n",
       "</style>\n",
       "<table border=\"1\" class=\"dataframe\">\n",
       "  <thead>\n",
       "    <tr style=\"text-align: right;\">\n",
       "      <th></th>\n",
       "      <th>Nom</th>\n",
       "      <th>Ville</th>\n",
       "    </tr>\n",
       "  </thead>\n",
       "  <tbody>\n",
       "    <tr>\n",
       "      <th>0</th>\n",
       "      <td>Amine</td>\n",
       "      <td>Casablanca</td>\n",
       "    </tr>\n",
       "    <tr>\n",
       "      <th>3</th>\n",
       "      <td>Salma</td>\n",
       "      <td>Casablanca</td>\n",
       "    </tr>\n",
       "  </tbody>\n",
       "</table>\n",
       "</div>"
      ],
      "text/plain": [
       "     Nom       Ville\n",
       "0  Amine  Casablanca\n",
       "3  Salma  Casablanca"
      ]
     },
     "execution_count": 8,
     "metadata": {},
     "output_type": "execute_result"
    }
   ],
   "source": [
    "df[df[\"Ville\"] == \"Casablanca\"][[\"Nom\", \"Ville\"]]"
   ]
  },
  {
   "cell_type": "markdown",
   "id": "fe2e89ee",
   "metadata": {},
   "source": [
    "## Challenge 03"
   ]
  },
  {
   "cell_type": "code",
   "execution_count": null,
   "id": "ec073f69",
   "metadata": {},
   "outputs": [],
   "source": [
    "df[\"Annee_naissance\"] = 2025 - df[\"Age\"]"
   ]
  },
  {
   "cell_type": "code",
   "execution_count": 11,
   "id": "f69da696",
   "metadata": {},
   "outputs": [],
   "source": [
    "df[\"Nom\"] = df[\"Nom\"].str.upper()"
   ]
  },
  {
   "cell_type": "code",
   "execution_count": 12,
   "id": "b762f18e",
   "metadata": {},
   "outputs": [],
   "source": [
    "df = df.rename(columns={\"Ville\": \"Localisation\"})"
   ]
  },
  {
   "cell_type": "code",
   "execution_count": 13,
   "id": "96bb788f",
   "metadata": {},
   "outputs": [
    {
     "data": {
      "text/html": [
       "<div>\n",
       "<style scoped>\n",
       "    .dataframe tbody tr th:only-of-type {\n",
       "        vertical-align: middle;\n",
       "    }\n",
       "\n",
       "    .dataframe tbody tr th {\n",
       "        vertical-align: top;\n",
       "    }\n",
       "\n",
       "    .dataframe thead th {\n",
       "        text-align: right;\n",
       "    }\n",
       "</style>\n",
       "<table border=\"1\" class=\"dataframe\">\n",
       "  <thead>\n",
       "    <tr style=\"text-align: right;\">\n",
       "      <th></th>\n",
       "      <th>Nom</th>\n",
       "      <th>Age</th>\n",
       "      <th>Localisation</th>\n",
       "      <th>Annee_naissance</th>\n",
       "    </tr>\n",
       "  </thead>\n",
       "  <tbody>\n",
       "    <tr>\n",
       "      <th>0</th>\n",
       "      <td>AMINE</td>\n",
       "      <td>28.0</td>\n",
       "      <td>Casablanca</td>\n",
       "      <td>1997.0</td>\n",
       "    </tr>\n",
       "    <tr>\n",
       "      <th>1</th>\n",
       "      <td>LINA</td>\n",
       "      <td>22.0</td>\n",
       "      <td>Rabat</td>\n",
       "      <td>2003.0</td>\n",
       "    </tr>\n",
       "    <tr>\n",
       "      <th>2</th>\n",
       "      <td>YOUSSEF</td>\n",
       "      <td>35.0</td>\n",
       "      <td>Fès</td>\n",
       "      <td>1990.0</td>\n",
       "    </tr>\n",
       "    <tr>\n",
       "      <th>3</th>\n",
       "      <td>SALMA</td>\n",
       "      <td>30.0</td>\n",
       "      <td>Casablanca</td>\n",
       "      <td>1995.0</td>\n",
       "    </tr>\n",
       "    <tr>\n",
       "      <th>4</th>\n",
       "      <td>NORA</td>\n",
       "      <td>NaN</td>\n",
       "      <td>Tanger</td>\n",
       "      <td>NaN</td>\n",
       "    </tr>\n",
       "  </tbody>\n",
       "</table>\n",
       "</div>"
      ],
      "text/plain": [
       "       Nom   Age Localisation  Annee_naissance\n",
       "0    AMINE  28.0   Casablanca           1997.0\n",
       "1     LINA  22.0        Rabat           2003.0\n",
       "2  YOUSSEF  35.0          Fès           1990.0\n",
       "3    SALMA  30.0   Casablanca           1995.0\n",
       "4     NORA   NaN       Tanger              NaN"
      ]
     },
     "execution_count": 13,
     "metadata": {},
     "output_type": "execute_result"
    }
   ],
   "source": [
    "df"
   ]
  },
  {
   "cell_type": "markdown",
   "id": "20a21870",
   "metadata": {},
   "source": [
    "## Challenge 04"
   ]
  },
  {
   "cell_type": "code",
   "execution_count": 14,
   "id": "b2eb10e9",
   "metadata": {},
   "outputs": [],
   "source": [
    "df.loc[1, \"Age\"] = np.nan"
   ]
  },
  {
   "cell_type": "code",
   "execution_count": 15,
   "id": "e4829b47",
   "metadata": {},
   "outputs": [
    {
     "data": {
      "text/html": [
       "<div>\n",
       "<style scoped>\n",
       "    .dataframe tbody tr th:only-of-type {\n",
       "        vertical-align: middle;\n",
       "    }\n",
       "\n",
       "    .dataframe tbody tr th {\n",
       "        vertical-align: top;\n",
       "    }\n",
       "\n",
       "    .dataframe thead th {\n",
       "        text-align: right;\n",
       "    }\n",
       "</style>\n",
       "<table border=\"1\" class=\"dataframe\">\n",
       "  <thead>\n",
       "    <tr style=\"text-align: right;\">\n",
       "      <th></th>\n",
       "      <th>Nom</th>\n",
       "      <th>Age</th>\n",
       "      <th>Localisation</th>\n",
       "      <th>Annee_naissance</th>\n",
       "    </tr>\n",
       "  </thead>\n",
       "  <tbody>\n",
       "    <tr>\n",
       "      <th>1</th>\n",
       "      <td>LINA</td>\n",
       "      <td>NaN</td>\n",
       "      <td>Rabat</td>\n",
       "      <td>2003.0</td>\n",
       "    </tr>\n",
       "    <tr>\n",
       "      <th>4</th>\n",
       "      <td>NORA</td>\n",
       "      <td>NaN</td>\n",
       "      <td>Tanger</td>\n",
       "      <td>NaN</td>\n",
       "    </tr>\n",
       "  </tbody>\n",
       "</table>\n",
       "</div>"
      ],
      "text/plain": [
       "    Nom  Age Localisation  Annee_naissance\n",
       "1  LINA  NaN        Rabat           2003.0\n",
       "4  NORA  NaN       Tanger              NaN"
      ]
     },
     "execution_count": 15,
     "metadata": {},
     "output_type": "execute_result"
    }
   ],
   "source": [
    "df[df.isnull().any(axis=1)]"
   ]
  },
  {
   "cell_type": "code",
   "execution_count": 16,
   "id": "82940d42",
   "metadata": {},
   "outputs": [],
   "source": [
    "mean_age = df[\"Age\"].mean()\n",
    "df[\"Age\"] = df[\"Age\"].fillna(mean_age)"
   ]
  },
  {
   "cell_type": "code",
   "execution_count": 17,
   "id": "5ce675c1",
   "metadata": {},
   "outputs": [
    {
     "data": {
      "text/html": [
       "<div>\n",
       "<style scoped>\n",
       "    .dataframe tbody tr th:only-of-type {\n",
       "        vertical-align: middle;\n",
       "    }\n",
       "\n",
       "    .dataframe tbody tr th {\n",
       "        vertical-align: top;\n",
       "    }\n",
       "\n",
       "    .dataframe thead th {\n",
       "        text-align: right;\n",
       "    }\n",
       "</style>\n",
       "<table border=\"1\" class=\"dataframe\">\n",
       "  <thead>\n",
       "    <tr style=\"text-align: right;\">\n",
       "      <th></th>\n",
       "      <th>Nom</th>\n",
       "      <th>Age</th>\n",
       "      <th>Localisation</th>\n",
       "      <th>Annee_naissance</th>\n",
       "    </tr>\n",
       "  </thead>\n",
       "  <tbody>\n",
       "    <tr>\n",
       "      <th>0</th>\n",
       "      <td>AMINE</td>\n",
       "      <td>28.0</td>\n",
       "      <td>Casablanca</td>\n",
       "      <td>1997.0</td>\n",
       "    </tr>\n",
       "    <tr>\n",
       "      <th>1</th>\n",
       "      <td>LINA</td>\n",
       "      <td>31.0</td>\n",
       "      <td>Rabat</td>\n",
       "      <td>2003.0</td>\n",
       "    </tr>\n",
       "    <tr>\n",
       "      <th>2</th>\n",
       "      <td>YOUSSEF</td>\n",
       "      <td>35.0</td>\n",
       "      <td>Fès</td>\n",
       "      <td>1990.0</td>\n",
       "    </tr>\n",
       "    <tr>\n",
       "      <th>3</th>\n",
       "      <td>SALMA</td>\n",
       "      <td>30.0</td>\n",
       "      <td>Casablanca</td>\n",
       "      <td>1995.0</td>\n",
       "    </tr>\n",
       "    <tr>\n",
       "      <th>4</th>\n",
       "      <td>NORA</td>\n",
       "      <td>31.0</td>\n",
       "      <td>Tanger</td>\n",
       "      <td>NaN</td>\n",
       "    </tr>\n",
       "  </tbody>\n",
       "</table>\n",
       "</div>"
      ],
      "text/plain": [
       "       Nom   Age Localisation  Annee_naissance\n",
       "0    AMINE  28.0   Casablanca           1997.0\n",
       "1     LINA  31.0        Rabat           2003.0\n",
       "2  YOUSSEF  35.0          Fès           1990.0\n",
       "3    SALMA  30.0   Casablanca           1995.0\n",
       "4     NORA  31.0       Tanger              NaN"
      ]
     },
     "execution_count": 17,
     "metadata": {},
     "output_type": "execute_result"
    }
   ],
   "source": [
    "df"
   ]
  },
  {
   "cell_type": "code",
   "execution_count": 18,
   "id": "6c397da2",
   "metadata": {},
   "outputs": [
    {
     "data": {
      "text/html": [
       "<div>\n",
       "<style scoped>\n",
       "    .dataframe tbody tr th:only-of-type {\n",
       "        vertical-align: middle;\n",
       "    }\n",
       "\n",
       "    .dataframe tbody tr th {\n",
       "        vertical-align: top;\n",
       "    }\n",
       "\n",
       "    .dataframe thead th {\n",
       "        text-align: right;\n",
       "    }\n",
       "</style>\n",
       "<table border=\"1\" class=\"dataframe\">\n",
       "  <thead>\n",
       "    <tr style=\"text-align: right;\">\n",
       "      <th></th>\n",
       "      <th>Nom</th>\n",
       "      <th>Age</th>\n",
       "      <th>Localisation</th>\n",
       "      <th>Annee_naissance</th>\n",
       "    </tr>\n",
       "  </thead>\n",
       "  <tbody>\n",
       "    <tr>\n",
       "      <th>2</th>\n",
       "      <td>YOUSSEF</td>\n",
       "      <td>35.0</td>\n",
       "      <td>Fès</td>\n",
       "      <td>1990.0</td>\n",
       "    </tr>\n",
       "    <tr>\n",
       "      <th>1</th>\n",
       "      <td>LINA</td>\n",
       "      <td>31.0</td>\n",
       "      <td>Rabat</td>\n",
       "      <td>2003.0</td>\n",
       "    </tr>\n",
       "    <tr>\n",
       "      <th>4</th>\n",
       "      <td>NORA</td>\n",
       "      <td>31.0</td>\n",
       "      <td>Tanger</td>\n",
       "      <td>NaN</td>\n",
       "    </tr>\n",
       "    <tr>\n",
       "      <th>3</th>\n",
       "      <td>SALMA</td>\n",
       "      <td>30.0</td>\n",
       "      <td>Casablanca</td>\n",
       "      <td>1995.0</td>\n",
       "    </tr>\n",
       "    <tr>\n",
       "      <th>0</th>\n",
       "      <td>AMINE</td>\n",
       "      <td>28.0</td>\n",
       "      <td>Casablanca</td>\n",
       "      <td>1997.0</td>\n",
       "    </tr>\n",
       "  </tbody>\n",
       "</table>\n",
       "</div>"
      ],
      "text/plain": [
       "       Nom   Age Localisation  Annee_naissance\n",
       "2  YOUSSEF  35.0          Fès           1990.0\n",
       "1     LINA  31.0        Rabat           2003.0\n",
       "4     NORA  31.0       Tanger              NaN\n",
       "3    SALMA  30.0   Casablanca           1995.0\n",
       "0    AMINE  28.0   Casablanca           1997.0"
      ]
     },
     "execution_count": 18,
     "metadata": {},
     "output_type": "execute_result"
    }
   ],
   "source": [
    "df_sorted = df.sort_values(by=\"Age\", ascending=False)\n",
    "df_sorted"
   ]
  },
  {
   "cell_type": "code",
   "execution_count": 19,
   "id": "4d59a38f",
   "metadata": {},
   "outputs": [],
   "source": [
    "df_sorted = df_sorted.drop(columns=[\"Annee_naissance\"])"
   ]
  },
  {
   "cell_type": "code",
   "execution_count": 20,
   "id": "0741dc58",
   "metadata": {},
   "outputs": [],
   "source": [
    "df_sorted = df_sorted.drop(index=df_sorted.index[0])"
   ]
  },
  {
   "cell_type": "code",
   "execution_count": 21,
   "id": "464bd7e8",
   "metadata": {},
   "outputs": [
    {
     "data": {
      "text/html": [
       "<div>\n",
       "<style scoped>\n",
       "    .dataframe tbody tr th:only-of-type {\n",
       "        vertical-align: middle;\n",
       "    }\n",
       "\n",
       "    .dataframe tbody tr th {\n",
       "        vertical-align: top;\n",
       "    }\n",
       "\n",
       "    .dataframe thead th {\n",
       "        text-align: right;\n",
       "    }\n",
       "</style>\n",
       "<table border=\"1\" class=\"dataframe\">\n",
       "  <thead>\n",
       "    <tr style=\"text-align: right;\">\n",
       "      <th></th>\n",
       "      <th>Nom</th>\n",
       "      <th>Age</th>\n",
       "      <th>Localisation</th>\n",
       "    </tr>\n",
       "  </thead>\n",
       "  <tbody>\n",
       "    <tr>\n",
       "      <th>1</th>\n",
       "      <td>LINA</td>\n",
       "      <td>31.0</td>\n",
       "      <td>Rabat</td>\n",
       "    </tr>\n",
       "    <tr>\n",
       "      <th>4</th>\n",
       "      <td>NORA</td>\n",
       "      <td>31.0</td>\n",
       "      <td>Tanger</td>\n",
       "    </tr>\n",
       "    <tr>\n",
       "      <th>3</th>\n",
       "      <td>SALMA</td>\n",
       "      <td>30.0</td>\n",
       "      <td>Casablanca</td>\n",
       "    </tr>\n",
       "    <tr>\n",
       "      <th>0</th>\n",
       "      <td>AMINE</td>\n",
       "      <td>28.0</td>\n",
       "      <td>Casablanca</td>\n",
       "    </tr>\n",
       "  </tbody>\n",
       "</table>\n",
       "</div>"
      ],
      "text/plain": [
       "     Nom   Age Localisation\n",
       "1   LINA  31.0        Rabat\n",
       "4   NORA  31.0       Tanger\n",
       "3  SALMA  30.0   Casablanca\n",
       "0  AMINE  28.0   Casablanca"
      ]
     },
     "execution_count": 21,
     "metadata": {},
     "output_type": "execute_result"
    }
   ],
   "source": [
    "df_sorted"
   ]
  }
 ],
 "metadata": {
  "kernelspec": {
   "display_name": "base",
   "language": "python",
   "name": "python3"
  },
  "language_info": {
   "codemirror_mode": {
    "name": "ipython",
    "version": 3
   },
   "file_extension": ".py",
   "mimetype": "text/x-python",
   "name": "python",
   "nbconvert_exporter": "python",
   "pygments_lexer": "ipython3",
   "version": "3.12.7"
  }
 },
 "nbformat": 4,
 "nbformat_minor": 5
}
